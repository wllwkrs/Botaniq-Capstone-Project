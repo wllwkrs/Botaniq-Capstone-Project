{
  "cells": [
    {
      "cell_type": "markdown",
      "source": [
        "# **1️⃣ Installasi dan Import Library**"
      ],
      "metadata": {
        "id": "V4p74QB2bueC"
      },
      "id": "V4p74QB2bueC"
    },
    {
      "cell_type": "code",
      "source": [
        "!pip install flask flask-cors pyngrok\n",
        "!pip install gdown\n",
        "from flask import Flask, request, jsonify\n",
        "from flask_cors import CORS\n",
        "from pyngrok import conf, ngrok\n",
        "import tensorflow as tf\n",
        "import numpy as np\n",
        "import pickle\n",
        "import pandas as pd\n",
        "import threading\n",
        "import requests\n",
        "import gdown\n",
        "import logging\n",
        "from datetime import datetime\n",
        "import joblib\n",
        "from sklearn.metrics.pairwise import cosine_similarity"
      ],
      "metadata": {
        "colab": {
          "base_uri": "https://localhost:8080/"
        },
        "id": "7gnCie5SwxM0",
        "outputId": "38fa0657-03e1-419c-8787-c1755dd0ac9f"
      },
      "id": "7gnCie5SwxM0",
      "execution_count": 1,
      "outputs": [
        {
          "output_type": "stream",
          "name": "stdout",
          "text": [
            "Requirement already satisfied: flask in /usr/local/lib/python3.11/dist-packages (3.1.1)\n",
            "Collecting flask-cors\n",
            "  Downloading flask_cors-6.0.1-py3-none-any.whl.metadata (5.3 kB)\n",
            "Collecting pyngrok\n",
            "  Downloading pyngrok-7.2.11-py3-none-any.whl.metadata (9.4 kB)\n",
            "Requirement already satisfied: blinker>=1.9.0 in /usr/local/lib/python3.11/dist-packages (from flask) (1.9.0)\n",
            "Requirement already satisfied: click>=8.1.3 in /usr/local/lib/python3.11/dist-packages (from flask) (8.2.1)\n",
            "Requirement already satisfied: itsdangerous>=2.2.0 in /usr/local/lib/python3.11/dist-packages (from flask) (2.2.0)\n",
            "Requirement already satisfied: jinja2>=3.1.2 in /usr/local/lib/python3.11/dist-packages (from flask) (3.1.6)\n",
            "Requirement already satisfied: markupsafe>=2.1.1 in /usr/local/lib/python3.11/dist-packages (from flask) (3.0.2)\n",
            "Requirement already satisfied: werkzeug>=3.1.0 in /usr/local/lib/python3.11/dist-packages (from flask) (3.1.3)\n",
            "Requirement already satisfied: PyYAML>=5.1 in /usr/local/lib/python3.11/dist-packages (from pyngrok) (6.0.2)\n",
            "Downloading flask_cors-6.0.1-py3-none-any.whl (13 kB)\n",
            "Downloading pyngrok-7.2.11-py3-none-any.whl (25 kB)\n",
            "Installing collected packages: pyngrok, flask-cors\n",
            "Successfully installed flask-cors-6.0.1 pyngrok-7.2.11\n",
            "Requirement already satisfied: gdown in /usr/local/lib/python3.11/dist-packages (5.2.0)\n",
            "Requirement already satisfied: beautifulsoup4 in /usr/local/lib/python3.11/dist-packages (from gdown) (4.13.4)\n",
            "Requirement already satisfied: filelock in /usr/local/lib/python3.11/dist-packages (from gdown) (3.18.0)\n",
            "Requirement already satisfied: requests[socks] in /usr/local/lib/python3.11/dist-packages (from gdown) (2.32.3)\n",
            "Requirement already satisfied: tqdm in /usr/local/lib/python3.11/dist-packages (from gdown) (4.67.1)\n",
            "Requirement already satisfied: soupsieve>1.2 in /usr/local/lib/python3.11/dist-packages (from beautifulsoup4->gdown) (2.7)\n",
            "Requirement already satisfied: typing-extensions>=4.0.0 in /usr/local/lib/python3.11/dist-packages (from beautifulsoup4->gdown) (4.14.0)\n",
            "Requirement already satisfied: charset-normalizer<4,>=2 in /usr/local/lib/python3.11/dist-packages (from requests[socks]->gdown) (3.4.2)\n",
            "Requirement already satisfied: idna<4,>=2.5 in /usr/local/lib/python3.11/dist-packages (from requests[socks]->gdown) (3.10)\n",
            "Requirement already satisfied: urllib3<3,>=1.21.1 in /usr/local/lib/python3.11/dist-packages (from requests[socks]->gdown) (2.4.0)\n",
            "Requirement already satisfied: certifi>=2017.4.17 in /usr/local/lib/python3.11/dist-packages (from requests[socks]->gdown) (2025.4.26)\n",
            "Requirement already satisfied: PySocks!=1.5.7,>=1.5.6 in /usr/local/lib/python3.11/dist-packages (from requests[socks]->gdown) (1.7.1)\n"
          ]
        }
      ]
    },
    {
      "cell_type": "markdown",
      "source": [
        "## **2️⃣ Ngrok Authentication**"
      ],
      "metadata": {
        "id": "7b3TRWtscOOb"
      },
      "id": "7b3TRWtscOOb"
    },
    {
      "cell_type": "code",
      "execution_count": 2,
      "id": "b541e162",
      "metadata": {
        "id": "b541e162"
      },
      "outputs": [],
      "source": [
        "# Masukkan token kamu di sini\n",
        "conf.get_default().auth_token = \"2yGk1f8pQRPNaDUOuPuGfeyKWyD_54wGmdvqebnHBURhwFWGc\""
      ]
    },
    {
      "cell_type": "markdown",
      "source": [
        "## **3️⃣ Download Model dan Data**"
      ],
      "metadata": {
        "id": "Qzi6aNrwcP5F"
      },
      "id": "Qzi6aNrwcP5F"
    },
    {
      "cell_type": "code",
      "source": [
        "gdown.download('https://drive.google.com/uc?id=1E0P3hRrOXw15e74gRRFzS-Lpy2lnDYWO', 'RekomendasibyLokasi_model.h5', quiet=False)\n",
        "gdown.download('https://drive.google.com/uc?id=1NDjuhF3e7_dIeggp5DX2aoTUbqcONjUh', 'climate_encoder.pkl', quiet=False)\n",
        "gdown.download('https://drive.google.com/uc?id=1GVu4BY5AjjsLqpdeEsWb9yhJV4qQNPty', 'label_encoder.pkl', quiet=False)\n",
        "gdown.download('https://drive.google.com/uc?id=1mPVC3Gt6X3ahXXjsvoCMxMmNg_IX-V4-', 'RekomendasibyCustom_model.h5', quiet=False)\n",
        "gdown.download('https://drive.google.com/uc?id=1NwaVTbBugi-ku8DDOQ_P8GHn6qD8Quq5', 'tfidf_vectorizer.pkl', quiet=False)\n",
        "gdown.download('https://drive.google.com/uc?id=13LhafhE4-CwF6MKz2HdOkktkBo8ystYK', 'label_encoder_custom.pkl', quiet=False)\n",
        "gdown.download('https://drive.google.com/uc?id=1_u-sI0bTmjO7hFblMx85HlJdvP3Ax_Os', 'encoder_houseplants.h5', quiet=False)\n",
        "gdown.download('https://drive.google.com/uc?id=1e5AEgy9V9GjFL3UdXkxs1AdNnE56uCAz', 'encoder_plantsandfamily.h5', quiet=False)\n",
        "gdown.download('https://drive.google.com/uc?id=1vaJq-sSny8TrpDlEmPoOppYmrwwpwyuY', 'plant_data.pkl', quiet=False)\n"
      ],
      "metadata": {
        "colab": {
          "base_uri": "https://localhost:8080/",
          "height": 660
        },
        "id": "pTP25B2reS0B",
        "outputId": "0570e5c4-daf5-4573-acc3-3691d06e4971"
      },
      "id": "pTP25B2reS0B",
      "execution_count": 3,
      "outputs": [
        {
          "output_type": "stream",
          "name": "stderr",
          "text": [
            "Downloading...\n",
            "From: https://drive.google.com/uc?id=1E0P3hRrOXw15e74gRRFzS-Lpy2lnDYWO\n",
            "To: /content/RekomendasibyLokasi_model.h5\n",
            "100%|██████████| 98.5k/98.5k [00:00<00:00, 36.2MB/s]\n",
            "Downloading...\n",
            "From: https://drive.google.com/uc?id=1NDjuhF3e7_dIeggp5DX2aoTUbqcONjUh\n",
            "To: /content/climate_encoder.pkl\n",
            "100%|██████████| 131/131 [00:00<00:00, 362kB/s]\n",
            "Downloading...\n",
            "From: https://drive.google.com/uc?id=1GVu4BY5AjjsLqpdeEsWb9yhJV4qQNPty\n",
            "To: /content/label_encoder.pkl\n",
            "100%|██████████| 3.84k/3.84k [00:00<00:00, 10.1MB/s]\n",
            "Downloading...\n",
            "From: https://drive.google.com/uc?id=1mPVC3Gt6X3ahXXjsvoCMxMmNg_IX-V4-\n",
            "To: /content/RekomendasibyCustom_model.h5\n",
            "100%|██████████| 485k/485k [00:00<00:00, 109MB/s]\n",
            "Downloading...\n",
            "From: https://drive.google.com/uc?id=1NwaVTbBugi-ku8DDOQ_P8GHn6qD8Quq5\n",
            "To: /content/tfidf_vectorizer.pkl\n",
            "100%|██████████| 1.37k/1.37k [00:00<00:00, 3.40MB/s]\n",
            "Downloading...\n",
            "From: https://drive.google.com/uc?id=13LhafhE4-CwF6MKz2HdOkktkBo8ystYK\n",
            "To: /content/label_encoder_custom.pkl\n",
            "100%|██████████| 5.47k/5.47k [00:00<00:00, 8.42MB/s]\n",
            "Downloading...\n",
            "From: https://drive.google.com/uc?id=1_u-sI0bTmjO7hFblMx85HlJdvP3Ax_Os\n",
            "To: /content/encoder_houseplants.h5\n",
            "100%|██████████| 13.2k/13.2k [00:00<00:00, 21.8MB/s]\n",
            "Downloading...\n",
            "From: https://drive.google.com/uc?id=1e5AEgy9V9GjFL3UdXkxs1AdNnE56uCAz\n",
            "To: /content/encoder_plantsandfamily.h5\n",
            "100%|██████████| 13.2k/13.2k [00:00<00:00, 20.6MB/s]\n",
            "Downloading...\n",
            "From: https://drive.google.com/uc?id=1vaJq-sSny8TrpDlEmPoOppYmrwwpwyuY\n",
            "To: /content/plant_data.pkl\n",
            "100%|██████████| 124k/124k [00:00<00:00, 79.1MB/s]\n"
          ]
        },
        {
          "output_type": "execute_result",
          "data": {
            "text/plain": [
              "'plant_data.pkl'"
            ],
            "application/vnd.google.colaboratory.intrinsic+json": {
              "type": "string"
            }
          },
          "metadata": {},
          "execution_count": 3
        }
      ]
    },
    {
      "cell_type": "markdown",
      "source": [
        "## **4️⃣ Load Model dan Encoder**"
      ],
      "metadata": {
        "id": "TNoqWQ_0cwxg"
      },
      "id": "TNoqWQ_0cwxg"
    },
    {
      "cell_type": "code",
      "execution_count": 4,
      "id": "bca7619f",
      "metadata": {
        "id": "bca7619f",
        "colab": {
          "base_uri": "https://localhost:8080/"
        },
        "outputId": "129f716a-2c1c-403d-cbb5-89eacbfea46a"
      },
      "outputs": [
        {
          "output_type": "stream",
          "name": "stderr",
          "text": [
            "WARNING:absl:Compiled the loaded model, but the compiled metrics have yet to be built. `model.compile_metrics` will be empty until you train or evaluate the model.\n",
            "WARNING:absl:Compiled the loaded model, but the compiled metrics have yet to be built. `model.compile_metrics` will be empty until you train or evaluate the model.\n",
            "WARNING:absl:No training configuration found in the save file, so the model was *not* compiled. Compile it manually.\n",
            "WARNING:absl:No training configuration found in the save file, so the model was *not* compiled. Compile it manually.\n"
          ]
        }
      ],
      "source": [
        "# lokasi\n",
        "model_lokasi = tf.keras.models.load_model('RekomendasibyLokasi_model.h5')\n",
        "\n",
        "with open(\"climate_encoder.pkl\", \"rb\") as f:\n",
        "    climate_encoder = pickle.load(f)\n",
        "\n",
        "with open(\"label_encoder.pkl\", \"rb\") as f:\n",
        "    label_encoder = pickle.load(f)\n",
        "\n",
        "recommendation_history_location = set()\n",
        "\n",
        "# custom\n",
        "model_custom = tf.keras.models.load_model('RekomendasibyCustom_model.h5')\n",
        "\n",
        "with open(\"tfidf_vectorizer.pkl\", \"rb\") as f:\n",
        "    tfidf = pickle.load(f)\n",
        "\n",
        "with open(\"label_encoder_custom.pkl\", \"rb\") as f:\n",
        "    label_encoder_custom = pickle.load(f)\n",
        "\n",
        "recommendation_history_custom = set()\n",
        "\n",
        "# kebun\n",
        "encoder_paf = tf.keras.models.load_model(\"encoder_plantsandfamily.h5\")\n",
        "encoder_hpl = tf.keras.models.load_model(\"encoder_houseplants.h5\")"
      ]
    },
    {
      "cell_type": "markdown",
      "source": [
        "## **5️⃣ Inisialisasi Flask App dan  Endpoint Home**"
      ],
      "metadata": {
        "id": "wBGP4gW7dCNE"
      },
      "id": "wBGP4gW7dCNE"
    },
    {
      "cell_type": "code",
      "execution_count": 5,
      "id": "385b5f23",
      "metadata": {
        "id": "385b5f23"
      },
      "outputs": [],
      "source": [
        "# Setup Flask App\n",
        "app = Flask(__name__)\n",
        "CORS(app)\n",
        "\n",
        "# Endpoint Home\n",
        "@app.route(\"/\")\n",
        "def home():\n",
        "    return \"🌱 Welcome to ML API!\"\n"
      ]
    },
    {
      "cell_type": "markdown",
      "source": [
        "## **6️⃣ Endpoint Lokasi**"
      ],
      "metadata": {
        "id": "4pfX1VYEdKvN"
      },
      "id": "4pfX1VYEdKvN"
    },
    {
      "cell_type": "code",
      "source": [
        "@app.route(\"/predict/lokasi\", methods=[\"GET\", \"POST\"])\n",
        "def predict_lokasi():\n",
        "    global recommendation_history_location\n",
        "    if request.method == \"GET\":\n",
        "        return jsonify({\n",
        "            \"message\": \"Gunakan metode POST dengan JSON body yang berisi 'climate' dan 'temperature'.\",\n",
        "            \"example\": {\n",
        "                \"climate\": \"Subtropical\",\n",
        "                \"temperature\": 20,\n",
        "                \"reset\": False\n",
        "            }\n",
        "        }), 200\n",
        "    try:\n",
        "        data = request.json\n",
        "        climate = data.get(\"climate\")\n",
        "        temp = data.get(\"temperature\")\n",
        "        reset = data.get(\"reset\", False)\n",
        "\n",
        "        if reset:\n",
        "            recommendation_history_location = set()\n",
        "\n",
        "        if not climate or climate not in climate_encoder:\n",
        "            return jsonify({\"error\": \"Iklim tidak dikenali\"}), 400\n",
        "\n",
        "        temperature = float(temp)\n",
        "        climate_code = climate_encoder[climate]\n",
        "        input_array = np.array([[climate_code, temperature]])\n",
        "        preds = model_lokasi.predict(input_array, verbose=0)[0]\n",
        "\n",
        "        labels = label_encoder.inverse_transform(np.arange(len(preds)))\n",
        "        prob_df = pd.DataFrame({\"latin\": labels, \"prob\": preds})\n",
        "        prob_df = prob_df[~prob_df[\"latin\"].isin(recommendation_history_location)]\n",
        "\n",
        "        top_latin = prob_df.sort_values(by=\"prob\", ascending=False).head(3)[\"latin\"].tolist()\n",
        "        recommendation_history_location.update(top_latin)\n",
        "\n",
        "        return jsonify({\n",
        "            \"input\": {\"climate\": climate, \"temperature\": temperature},\n",
        "            \"recommendations\": top_latin\n",
        "        })\n",
        "    except Exception as e:\n",
        "        return jsonify({\"error\": str(e)}), 400\n"
      ],
      "metadata": {
        "id": "o6znZDKrgSwJ"
      },
      "id": "o6znZDKrgSwJ",
      "execution_count": 6,
      "outputs": []
    },
    {
      "cell_type": "markdown",
      "source": [
        "## **7️⃣ Endpoint Custom**"
      ],
      "metadata": {
        "id": "9CMjGWwtdSCm"
      },
      "id": "9CMjGWwtdSCm"
    },
    {
      "cell_type": "code",
      "source": [
        "@app.route(\"/predict/custom\", methods=[\"GET\", \"POST\"])\n",
        "def predict_custom():\n",
        "    global recommendation_history_custom\n",
        "    if request.method == \"GET\":\n",
        "        return jsonify({\n",
        "            \"message\": \"Gunakan POST dengan filter tanaman.\",\n",
        "            \"required_filters\": [\"Growth\", \"Soil\", \"Sunlight\", \"Watering\", \"Fertilization Type\"],\n",
        "            \"example\": {\n",
        "                \"Growth\": \"none\",\n",
        "                \"Soil\": \"well-drained\",\n",
        "                \"Sunlight\": \"full sunlight\",\n",
        "                \"Watering\": \"Keep soil evenly moist\",\n",
        "                \"Fertilization Type\": \"Organic\",\n",
        "                \"reset\": False\n",
        "            }\n",
        "        }), 200\n",
        "    try:\n",
        "        data = request.json\n",
        "        reset = data.get(\"reset\", False)\n",
        "\n",
        "        if reset:\n",
        "            recommendation_history_custom = set()\n",
        "\n",
        "        filter_keys = [\"Growth\", \"Soil\", \"Sunlight\", \"Watering\", \"Fertilization Type\"]\n",
        "        if not all(k in data for k in filter_keys):\n",
        "            return jsonify({\"error\": \"Filter tidak lengkap\"}), 400\n",
        "\n",
        "        user_filters = {k: v for k, v in data.items() if k in filter_keys and v.lower() != \"none\"}\n",
        "\n",
        "        if not user_filters:\n",
        "            return jsonify({\"error\": \"Tidak ada filter yang dipilih\"}), 400\n",
        "\n",
        "        user_query = ' '.join(user_filters.values())\n",
        "        user_vector = tfidf.transform([user_query]).toarray()\n",
        "        probs = model_custom.predict(user_vector, verbose=0)[0]\n",
        "        top_indices = probs.argsort()[::-1]\n",
        "\n",
        "        top_plants = []\n",
        "        for idx in top_indices:\n",
        "            name = label_encoder_custom.inverse_transform([idx])[0]\n",
        "            if name not in recommendation_history_custom:\n",
        "                top_plants.append(name)\n",
        "                recommendation_history_custom.add(name)\n",
        "            if len(top_plants) == 3:\n",
        "                break\n",
        "\n",
        "        return jsonify({\n",
        "            \"input\": user_filters,\n",
        "            \"recommendations\": top_plants\n",
        "        })\n",
        "    except Exception as e:\n",
        "        return jsonify({\"error\": str(e)}), 400\n"
      ],
      "metadata": {
        "id": "u_CEm2Ba6qi-"
      },
      "id": "u_CEm2Ba6qi-",
      "execution_count": 7,
      "outputs": []
    },
    {
      "cell_type": "markdown",
      "source": [
        "## **8️⃣ Load Data Embedding dan Plant Info**"
      ],
      "metadata": {
        "id": "eMEo2ebZd27g"
      },
      "id": "eMEo2ebZd27g"
    },
    {
      "cell_type": "code",
      "source": [
        "data = joblib.load('plant_data.pkl')\n",
        "plantsandfamily = data['plantsandfamily']\n",
        "houseplants = data['houseplants']\n",
        "pencocokanplantsandfamily = data['pencocokanplantsandfamily']\n",
        "pencocokanhouseplants = data['pencocokanhouseplants']\n",
        "embed_paf = data['embed_paf']\n",
        "embed_hpl = data['embed_hpl']\n"
      ],
      "metadata": {
        "id": "LPtI40pX6w5V"
      },
      "id": "LPtI40pX6w5V",
      "execution_count": 8,
      "outputs": []
    },
    {
      "cell_type": "markdown",
      "source": [
        "## **9️⃣ Endpoint Kebun**"
      ],
      "metadata": {
        "id": "MK8NKXeVd4GB"
      },
      "id": "MK8NKXeVd4GB"
    },
    {
      "cell_type": "code",
      "source": [
        "@app.route('/predict/kebun', methods=['GET', 'POST'])\n",
        "def rekomendasi_perawatan():\n",
        "    if request.method == 'GET':\n",
        "        return jsonify({\n",
        "            'description': 'API ini memberikan saran perawatan tanaman berdasarkan nama tanaman.',\n",
        "            'method': 'POST',\n",
        "            'input_format': {\n",
        "                'nama_tanaman': 'string, contoh: \"Aloe Vera\"'\n",
        "            },\n",
        "            'output_format': {\n",
        "                'Jenis Cahaya': 'string',\n",
        "                'Pola Penyiraman': 'string',\n",
        "                'Tipe Pupuk': 'string',\n",
        "                'Serangga': 'string',\n",
        "                'Fungsi Tanaman': 'string'\n",
        "            },\n",
        "            'note': 'Gunakan POST untuk mendapatkan rekomendasi perawatan.'\n",
        "        })\n",
        "\n",
        "    # POST request\n",
        "    req_data = request.get_json()\n",
        "    nama_tanaman = req_data.get('nama_tanaman', '').strip().lower()\n",
        "\n",
        "    # SCENARIO 1: Tanaman di PlantsAndFamily\n",
        "    match_paf = plantsandfamily[plantsandfamily['Plant Name'].str.lower() == nama_tanaman]\n",
        "    if not match_paf.empty:\n",
        "        sunlight = match_paf['Sunlight'].values[0]\n",
        "        watering = match_paf['Watering'].values[0]\n",
        "        pupuk = match_paf['Fertilization Type'].values[0]\n",
        "\n",
        "        entry = pencocokanplantsandfamily[pencocokanplantsandfamily['Plant Name'].str.lower() == nama_tanaman]\n",
        "        if entry.empty:\n",
        "            return jsonify({'error': 'Data numerik tidak ditemukan untuk tanaman ini.'})\n",
        "\n",
        "        encoded_input = encoder_paf.predict(entry[['Sunlight', 'Watering']].values)\n",
        "        similarities = cosine_similarity(encoded_input, embed_hpl)\n",
        "        best_match_index = np.argmax(similarities)\n",
        "\n",
        "        match_latin = pencocokanhouseplants.iloc[best_match_index]['latin']\n",
        "        match_house = houseplants[houseplants['latin'] == match_latin]\n",
        "\n",
        "        return jsonify({\n",
        "            'Jenis Cahaya': sunlight,\n",
        "            'Pola Penyiraman': watering,\n",
        "            'Tipe Pupuk': pupuk,\n",
        "            'Serangga': match_house['insects'].values[0],\n",
        "            'Fungsi Tanaman': match_house['use'].values[0]\n",
        "        })\n",
        "\n",
        "    # SCENARIO 2: Tanaman di Houseplants\n",
        "    match_hpl = houseplants[houseplants['latin'].str.lower() == nama_tanaman]\n",
        "    if not match_hpl.empty:\n",
        "        cahaya = match_hpl['ideallight'].values[0]\n",
        "        siram = match_hpl['watering'].values[0]\n",
        "        serangga = match_hpl['insects'].values[0]\n",
        "        fungsi = match_hpl['use'].values[0]\n",
        "\n",
        "        entry = pencocokanhouseplants[pencocokanhouseplants['latin'].str.lower() == nama_tanaman]\n",
        "        if entry.empty:\n",
        "            return jsonify({'error': 'Data numerik tidak ditemukan untuk tanaman ini.'})\n",
        "\n",
        "        encoded_input = encoder_hpl.predict(entry[['ideallight', 'watering']].values)\n",
        "        similarities = cosine_similarity(encoded_input, embed_paf)\n",
        "        best_match_index = np.argmax(similarities)\n",
        "\n",
        "        match_plant = pencocokanplantsandfamily.iloc[best_match_index]['Plant Name']\n",
        "        pupuk = plantsandfamily[plantsandfamily['Plant Name'] == match_plant]['Fertilization Type'].values[0]\n",
        "\n",
        "        return jsonify({\n",
        "            'Jenis Cahaya': cahaya,\n",
        "            'Pola Penyiraman': siram,\n",
        "            'Tipe Pupuk': pupuk,\n",
        "            'Serangga': serangga,\n",
        "            'Fungsi Tanaman': fungsi\n",
        "        })\n",
        "\n",
        "    # SCENARIO 3: Tanaman tidak ditemukan\n",
        "    return jsonify({'message': 'belum ada saran perawatan untuk tanaman ini'})\n"
      ],
      "metadata": {
        "id": "tnyXOtHzgjYa"
      },
      "id": "tnyXOtHzgjYa",
      "execution_count": 9,
      "outputs": []
    },
    {
      "cell_type": "markdown",
      "source": [
        "## **🔟 Jalankan Flask Server di Thread Terpisah**"
      ],
      "metadata": {
        "id": "I5vulgZcd5kC"
      },
      "id": "I5vulgZcd5kC"
    },
    {
      "cell_type": "code",
      "source": [
        "def run_flask():\n",
        "    app.run(port=5000, debug=False, use_reloader=False)\n",
        "\n",
        "threading.Thread(target=run_flask).start()"
      ],
      "metadata": {
        "id": "sNcfQ0vqxIjT"
      },
      "id": "sNcfQ0vqxIjT",
      "execution_count": 10,
      "outputs": []
    },
    {
      "cell_type": "markdown",
      "source": [
        "## **Ini contoh penggunaan ngrok yang tidak menggunakan public url, melainkan dari domain akun ngrok**"
      ],
      "metadata": {
        "id": "houMceeId6-e"
      },
      "id": "houMceeId6-e"
    },
    {
      "cell_type": "code",
      "source": [
        "public_url = ngrok.connect(addr=5000, domain=\"intimate-admittedly-kangaroo.ngrok-free.app\")"
      ],
      "metadata": {
        "id": "RhTaqzfSxMug",
        "colab": {
          "base_uri": "https://localhost:8080/"
        },
        "outputId": "ea0a71df-7c47-4cc9-e5b5-da5dc44a8bf5"
      },
      "id": "RhTaqzfSxMug",
      "execution_count": 11,
      "outputs": [
        {
          "output_type": "stream",
          "name": "stdout",
          "text": [
            " * Serving Flask app '__main__'\n",
            "Downloading ngrok ...\r * Debug mode: off\n"
          ]
        },
        {
          "output_type": "stream",
          "name": "stderr",
          "text": [
            "INFO:werkzeug:\u001b[31m\u001b[1mWARNING: This is a development server. Do not use it in a production deployment. Use a production WSGI server instead.\u001b[0m\n",
            " * Running on http://127.0.0.1:5000\n",
            "INFO:werkzeug:\u001b[33mPress CTRL+C to quit\u001b[0m\n"
          ]
        },
        {
          "output_type": "stream",
          "name": "stdout",
          "text": []
        }
      ]
    }
  ],
  "metadata": {
    "colab": {
      "provenance": []
    },
    "kernelspec": {
      "display_name": "Python 3",
      "name": "python3"
    },
    "language_info": {
      "name": "python"
    }
  },
  "nbformat": 4,
  "nbformat_minor": 5
}