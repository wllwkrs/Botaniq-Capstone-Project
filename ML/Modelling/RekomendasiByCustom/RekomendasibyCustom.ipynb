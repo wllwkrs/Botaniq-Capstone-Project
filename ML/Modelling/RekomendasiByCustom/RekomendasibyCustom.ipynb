{
  "nbformat": 4,
  "nbformat_minor": 0,
  "metadata": {
    "colab": {
      "provenance": [],
      "collapsed_sections": [
        "1OpHyI3VYUIL"
      ]
    },
    "kernelspec": {
      "name": "python3",
      "display_name": "Python 3"
    },
    "language_info": {
      "name": "python"
    }
  },
  "cells": [
    {
      "cell_type": "markdown",
      "source": [
        "## **🧩 Pemilihan Algoritma untuk Rekomendasi Berdasarkan Filter Custom**"
      ],
      "metadata": {
        "id": "1OpHyI3VYUIL"
      }
    },
    {
      "cell_type": "markdown",
      "source": [
        "🛠️ **Strategi**: Mekanisme ini menerima input berupa filter kustom dari pengguna seperti _Growth_, _Soil_, _Sunlight_, _Watering_, dan _Fertilization_. Input ini bersifat **deskriptif tekstual** sehingga direpresentasikan dalam bentuk **TF-IDF vektor**, mencerminkan hubungan semantik antar tanaman berdasarkan kesamaan deskripsi fitur.\n",
        "\n",
        "🧠 **Keputusan**: Dipilih algoritma **Neural Network (MLP via TensorFlow)** karena:\n",
        "- Mampu menangani **representasi TF-IDF** berdimensi tinggi tanpa kehilangan fleksibilitas.\n",
        "- Dapat belajar **pola kompleks** dalam kombinasi fitur yang tak teratur dan sparsity.\n",
        "- Lebih baik untuk pengembangan sistem dinamis dan dapat ditingkatkan dengan fine-tuning.\n",
        "\n",
        "📊 **Alternatif seperti** Random Forest tidak optimal pada vektor sparse karena tiap pohon memperlakukan fitur secara terpisah dan bisa menghasilkan struktur berlebihan. KNN tidak cocok karena kesulitan menangani vektor berdimensi tinggi (curse of dimensionality), serta berat saat prediksi (lazy learner).\n",
        "\n",
        "---\n",
        "\n",
        "### 📋 Tabel Perbandingan Algoritma\n",
        "\n",
        "| Aspek Evaluasi                  | ✅ MLP (TensorFlow)          | 🟡 Random Forest               | 🔴 K-Nearest Neighbors (KNN)    |\n",
        "|----------------------------------|-------------------------------|--------------------------------|----------------------------------|\n",
        "| Cocok untuk TF-IDF Input        | ✔️ Sangat Baik               | ❌ Kurang efisien              | ❌ Tidak efisien                |\n",
        "| Tangani Data Sparsed            | ✔️ Ya                        | ❌ Cenderung tidak efisien     | ❌ Tidak cocok                  |\n",
        "| Kompatibel dengan Dimensi Tinggi| ✔️ Didesain untuk itu        | ❌ Bisa overfitting            | ❌ Sangat terbatas              |\n",
        "| Multiclass Support              | ✔️ Native Support            | ✔️ Ya, tapi berat              | ⚠️ Kurang scalable             |\n",
        "| Potensi Pengembangan Model      | ✔️ Bisa ditingkatkan terus   | ⚠️ Terbatas                    | ❌ Tidak bisa dilatih ulang    |\n",
        "\n",
        "---\n",
        "\n",
        "📌 **Kesimpulan**: Neural Network (MLP via TensorFlow) adalah pilihan paling adaptif dan scalable untuk menangani mekanisme berbasis input tekstual dan vektor sparsity tinggi seperti TF-IDF, terutama dalam sistem rekomendasi dinamis berbasis filter pengguna."
      ],
      "metadata": {
        "id": "Sxwjn-OcYWrx"
      }
    },
    {
      "cell_type": "markdown",
      "source": [
        "## **1️⃣ Install & Import Library**"
      ],
      "metadata": {
        "id": "xpeyIV_OO7Re"
      }
    },
    {
      "cell_type": "code",
      "execution_count": null,
      "metadata": {
        "id": "VSty5BA8Oqpx"
      },
      "outputs": [],
      "source": [
        "!pip install gdown scikit-learn tensorflow --quiet\n",
        "\n",
        "import pandas as pd\n",
        "import numpy as np\n",
        "import gdown\n",
        "from sklearn.feature_extraction.text import TfidfVectorizer\n",
        "from sklearn.preprocessing import LabelEncoder\n",
        "from sklearn.model_selection import train_test_split\n",
        "from sklearn.metrics import classification_report\n",
        "import tensorflow as tf\n",
        "from tensorflow.keras.models import Sequential\n",
        "from tensorflow.keras.layers import Dense, Input\n",
        "from tensorflow.keras.utils import to_categorical"
      ]
    },
    {
      "cell_type": "markdown",
      "source": [
        "## **2️⃣ Download & Load Dataset PlansAndFamily**"
      ],
      "metadata": {
        "id": "oT9dOOFiQ1Sb"
      }
    },
    {
      "cell_type": "code",
      "source": [
        "# 2️⃣ Download & Load Dataset PlansAndFamily\n",
        "url = \"https://drive.google.com/uc?id=1nXnJKn-3TCXBW3URPzmRc7WH3cYQQ6Fe\"\n",
        "gdown.download(url, \"PlansAndFamily.csv\", quiet=False)\n",
        "df = pd.read_csv(\"PlansAndFamily.csv\")"
      ],
      "metadata": {
        "colab": {
          "base_uri": "https://localhost:8080/"
        },
        "id": "-aX82b3rQ7jq",
        "outputId": "5d76796e-4bae-4cbd-88f0-b918f6a1bb59"
      },
      "execution_count": null,
      "outputs": [
        {
          "output_type": "stream",
          "name": "stderr",
          "text": [
            "Downloading...\n",
            "From: https://drive.google.com/uc?id=1nXnJKn-3TCXBW3URPzmRc7WH3cYQQ6Fe\n",
            "To: /content/PlansAndFamily.csv\n",
            "100%|██████████| 50.0k/50.0k [00:00<00:00, 72.2MB/s]\n"
          ]
        }
      ]
    },
    {
      "cell_type": "markdown",
      "source": [
        "## **3️⃣ Preprocessing Fitur Gabungan**"
      ],
      "metadata": {
        "id": "MA0DnpVrRCIs"
      }
    },
    {
      "cell_type": "code",
      "source": [
        "df = df.dropna(subset=[\"Plant Name\"])\n",
        "filter_cols = [\"Growth\", \"Soil\", \"Sunlight\", \"Watering\", \"Fertilization Type\"]\n",
        "df['combined'] = df[filter_cols].fillna(\"\").agg(' '.join, axis=1)"
      ],
      "metadata": {
        "colab": {
          "base_uri": "https://localhost:8080/"
        },
        "id": "sLFX6-XBRELK",
        "outputId": "ae523409-6993-4bc9-a28c-eb494276a4d7"
      },
      "execution_count": null,
      "outputs": [
        {
          "output_type": "stream",
          "name": "stderr",
          "text": [
            "<ipython-input-12-21fb8c4f1cbd>:3: SettingWithCopyWarning: \n",
            "A value is trying to be set on a copy of a slice from a DataFrame.\n",
            "Try using .loc[row_indexer,col_indexer] = value instead\n",
            "\n",
            "See the caveats in the documentation: https://pandas.pydata.org/pandas-docs/stable/user_guide/indexing.html#returning-a-view-versus-a-copy\n",
            "  df['combined'] = df[filter_cols].fillna(\"\").agg(' '.join, axis=1)\n"
          ]
        }
      ]
    },
    {
      "cell_type": "markdown",
      "source": [
        "## **4️⃣ Encode Label Target**"
      ],
      "metadata": {
        "id": "yJD-j42JREXK"
      }
    },
    {
      "cell_type": "code",
      "source": [
        "le = LabelEncoder()\n",
        "df['label'] = le.fit_transform(df['Plant Name'])"
      ],
      "metadata": {
        "id": "3ysUH61mREx6"
      },
      "execution_count": null,
      "outputs": []
    },
    {
      "cell_type": "markdown",
      "source": [
        "## **5️⃣ TF-IDF Vectorization**"
      ],
      "metadata": {
        "id": "83eekKhjRE5C"
      }
    },
    {
      "cell_type": "code",
      "source": [
        "tfidf = TfidfVectorizer()\n",
        "X = tfidf.fit_transform(df['combined']).toarray()\n",
        "y = to_categorical(df['label'])  # TensorFlow expects one-hot encoding"
      ],
      "metadata": {
        "id": "GtLPb-5HRFRy"
      },
      "execution_count": null,
      "outputs": []
    },
    {
      "cell_type": "markdown",
      "source": [
        "## **6️⃣ Train 📦 TensorFlow Classifier (MLP)**"
      ],
      "metadata": {
        "id": "OIoB_4JvRFja"
      }
    },
    {
      "cell_type": "code",
      "source": [
        "X_train, X_test, y_train, y_test = train_test_split(X, y, test_size=0.2, random_state=42)\n",
        "\n",
        "model = Sequential([\n",
        "    Input(shape=(X.shape[1],)),\n",
        "    Dense(128, activation='relu'),\n",
        "    Dense(64, activation='relu'),\n",
        "    Dense(y.shape[1], activation='softmax')\n",
        "])\n",
        "\n",
        "model.compile(optimizer='adam', loss='categorical_crossentropy', metrics=['accuracy'])\n",
        "model.fit(X_train, y_train, epochs=10, batch_size=16, validation_split=0.1, verbose=0)"
      ],
      "metadata": {
        "colab": {
          "base_uri": "https://localhost:8080/"
        },
        "id": "nM-o3HXzRF2y",
        "outputId": "e3b51c6c-90ef-4afc-aeff-37958475560d"
      },
      "execution_count": null,
      "outputs": [
        {
          "output_type": "execute_result",
          "data": {
            "text/plain": [
              "<keras.src.callbacks.history.History at 0x785f8831e010>"
            ]
          },
          "metadata": {},
          "execution_count": 15
        }
      ]
    },
    {
      "cell_type": "markdown",
      "source": [
        "## **7️⃣ Fungsi Prediksi Berdasarkan Filter User**"
      ],
      "metadata": {
        "id": "n4kn-CHARF-a"
      }
    },
    {
      "cell_type": "code",
      "source": [
        "recommendation_history_custom = set()\n",
        "\n",
        "def recommend_plants_by_filter(user_filters: dict, top_n=3, reset=False):\n",
        "    global recommendation_history_custom\n",
        "\n",
        "    if reset:\n",
        "        recommendation_history_custom = set()\n",
        "\n",
        "    selected_features = [v for v in user_filters.values() if v.lower() != 'none']\n",
        "    if not selected_features:\n",
        "        return [\"Tidak ada filter yang dipilih\"]\n",
        "\n",
        "    user_query = ' '.join(selected_features)\n",
        "    user_vector = tfidf.transform([user_query]).toarray()\n",
        "\n",
        "    probs = model.predict(user_vector, verbose=0)[0]\n",
        "    top_indices = probs.argsort()[::-1]  # descending order\n",
        "    predictions = [(le.inverse_transform([idx])[0], probs[idx]) for idx in top_indices]\n",
        "\n",
        "    top_plants = []\n",
        "    for name, _ in predictions:\n",
        "        if name not in recommendation_history_custom:\n",
        "            top_plants.append(name)\n",
        "            recommendation_history_custom.add(name)\n",
        "        if len(top_plants) == top_n:\n",
        "            break\n",
        "\n",
        "    return df[df['Plant Name'].isin(top_plants)][['Plant Name'] + filter_cols].drop_duplicates('Plant Name')"
      ],
      "metadata": {
        "id": "CcK0VcT5RGPq"
      },
      "execution_count": null,
      "outputs": []
    },
    {
      "cell_type": "markdown",
      "source": [
        "## **8️⃣ Contoh Penggunaan**"
      ],
      "metadata": {
        "id": "aZQ8qZGdRGYa"
      }
    },
    {
      "cell_type": "code",
      "source": [
        "user_filters = {\n",
        "    \"Growth\": \"none\",\n",
        "    \"Soil\": \"well-drained\",\n",
        "    \"Sunlight\": \"full sunlight\",\n",
        "    \"Watering\": \"Keep soil evenly moist\",\n",
        "    \"Fertilization Type\": \"Organic\"\n",
        "}\n",
        "recommend_plants_by_filter(user_filters, reset=False)"
      ],
      "metadata": {
        "colab": {
          "base_uri": "https://localhost:8080/",
          "height": 143
        },
        "id": "uoGSbS0XRG7y",
        "outputId": "e80ddf70-93d4-4403-90d7-ceec52b7ef50"
      },
      "execution_count": null,
      "outputs": [
        {
          "output_type": "execute_result",
          "data": {
            "text/plain": [
              "   Plant Name    Growth          Soil           Sunlight  \\\n",
              "1       Basil      fast  well-drained      full sunlight   \n",
              "42      Pansy  moderate  well-drained   partial sunlight   \n",
              "91    Lobelia      fast  well-drained  indirect sunlight   \n",
              "\n",
              "                  Watering Fertilization Type  \n",
              "1   Keep soil evenly moist            Organic  \n",
              "42  Keep soil evenly moist            Organic  \n",
              "91            Water weekly       Low-nitrogen  "
            ],
            "text/html": [
              "\n",
              "  <div id=\"df-87533e82-8ffc-4597-895a-5ba854d9fb6d\" class=\"colab-df-container\">\n",
              "    <div>\n",
              "<style scoped>\n",
              "    .dataframe tbody tr th:only-of-type {\n",
              "        vertical-align: middle;\n",
              "    }\n",
              "\n",
              "    .dataframe tbody tr th {\n",
              "        vertical-align: top;\n",
              "    }\n",
              "\n",
              "    .dataframe thead th {\n",
              "        text-align: right;\n",
              "    }\n",
              "</style>\n",
              "<table border=\"1\" class=\"dataframe\">\n",
              "  <thead>\n",
              "    <tr style=\"text-align: right;\">\n",
              "      <th></th>\n",
              "      <th>Plant Name</th>\n",
              "      <th>Growth</th>\n",
              "      <th>Soil</th>\n",
              "      <th>Sunlight</th>\n",
              "      <th>Watering</th>\n",
              "      <th>Fertilization Type</th>\n",
              "    </tr>\n",
              "  </thead>\n",
              "  <tbody>\n",
              "    <tr>\n",
              "      <th>1</th>\n",
              "      <td>Basil</td>\n",
              "      <td>fast</td>\n",
              "      <td>well-drained</td>\n",
              "      <td>full sunlight</td>\n",
              "      <td>Keep soil evenly moist</td>\n",
              "      <td>Organic</td>\n",
              "    </tr>\n",
              "    <tr>\n",
              "      <th>42</th>\n",
              "      <td>Pansy</td>\n",
              "      <td>moderate</td>\n",
              "      <td>well-drained</td>\n",
              "      <td>partial sunlight</td>\n",
              "      <td>Keep soil evenly moist</td>\n",
              "      <td>Organic</td>\n",
              "    </tr>\n",
              "    <tr>\n",
              "      <th>91</th>\n",
              "      <td>Lobelia</td>\n",
              "      <td>fast</td>\n",
              "      <td>well-drained</td>\n",
              "      <td>indirect sunlight</td>\n",
              "      <td>Water weekly</td>\n",
              "      <td>Low-nitrogen</td>\n",
              "    </tr>\n",
              "  </tbody>\n",
              "</table>\n",
              "</div>\n",
              "    <div class=\"colab-df-buttons\">\n",
              "\n",
              "  <div class=\"colab-df-container\">\n",
              "    <button class=\"colab-df-convert\" onclick=\"convertToInteractive('df-87533e82-8ffc-4597-895a-5ba854d9fb6d')\"\n",
              "            title=\"Convert this dataframe to an interactive table.\"\n",
              "            style=\"display:none;\">\n",
              "\n",
              "  <svg xmlns=\"http://www.w3.org/2000/svg\" height=\"24px\" viewBox=\"0 -960 960 960\">\n",
              "    <path d=\"M120-120v-720h720v720H120Zm60-500h600v-160H180v160Zm220 220h160v-160H400v160Zm0 220h160v-160H400v160ZM180-400h160v-160H180v160Zm440 0h160v-160H620v160ZM180-180h160v-160H180v160Zm440 0h160v-160H620v160Z\"/>\n",
              "  </svg>\n",
              "    </button>\n",
              "\n",
              "  <style>\n",
              "    .colab-df-container {\n",
              "      display:flex;\n",
              "      gap: 12px;\n",
              "    }\n",
              "\n",
              "    .colab-df-convert {\n",
              "      background-color: #E8F0FE;\n",
              "      border: none;\n",
              "      border-radius: 50%;\n",
              "      cursor: pointer;\n",
              "      display: none;\n",
              "      fill: #1967D2;\n",
              "      height: 32px;\n",
              "      padding: 0 0 0 0;\n",
              "      width: 32px;\n",
              "    }\n",
              "\n",
              "    .colab-df-convert:hover {\n",
              "      background-color: #E2EBFA;\n",
              "      box-shadow: 0px 1px 2px rgba(60, 64, 67, 0.3), 0px 1px 3px 1px rgba(60, 64, 67, 0.15);\n",
              "      fill: #174EA6;\n",
              "    }\n",
              "\n",
              "    .colab-df-buttons div {\n",
              "      margin-bottom: 4px;\n",
              "    }\n",
              "\n",
              "    [theme=dark] .colab-df-convert {\n",
              "      background-color: #3B4455;\n",
              "      fill: #D2E3FC;\n",
              "    }\n",
              "\n",
              "    [theme=dark] .colab-df-convert:hover {\n",
              "      background-color: #434B5C;\n",
              "      box-shadow: 0px 1px 3px 1px rgba(0, 0, 0, 0.15);\n",
              "      filter: drop-shadow(0px 1px 2px rgba(0, 0, 0, 0.3));\n",
              "      fill: #FFFFFF;\n",
              "    }\n",
              "  </style>\n",
              "\n",
              "    <script>\n",
              "      const buttonEl =\n",
              "        document.querySelector('#df-87533e82-8ffc-4597-895a-5ba854d9fb6d button.colab-df-convert');\n",
              "      buttonEl.style.display =\n",
              "        google.colab.kernel.accessAllowed ? 'block' : 'none';\n",
              "\n",
              "      async function convertToInteractive(key) {\n",
              "        const element = document.querySelector('#df-87533e82-8ffc-4597-895a-5ba854d9fb6d');\n",
              "        const dataTable =\n",
              "          await google.colab.kernel.invokeFunction('convertToInteractive',\n",
              "                                                    [key], {});\n",
              "        if (!dataTable) return;\n",
              "\n",
              "        const docLinkHtml = 'Like what you see? Visit the ' +\n",
              "          '<a target=\"_blank\" href=https://colab.research.google.com/notebooks/data_table.ipynb>data table notebook</a>'\n",
              "          + ' to learn more about interactive tables.';\n",
              "        element.innerHTML = '';\n",
              "        dataTable['output_type'] = 'display_data';\n",
              "        await google.colab.output.renderOutput(dataTable, element);\n",
              "        const docLink = document.createElement('div');\n",
              "        docLink.innerHTML = docLinkHtml;\n",
              "        element.appendChild(docLink);\n",
              "      }\n",
              "    </script>\n",
              "  </div>\n",
              "\n",
              "\n",
              "    <div id=\"df-488ed1b9-8c3d-4f1f-baec-c9346f99f073\">\n",
              "      <button class=\"colab-df-quickchart\" onclick=\"quickchart('df-488ed1b9-8c3d-4f1f-baec-c9346f99f073')\"\n",
              "                title=\"Suggest charts\"\n",
              "                style=\"display:none;\">\n",
              "\n",
              "<svg xmlns=\"http://www.w3.org/2000/svg\" height=\"24px\"viewBox=\"0 0 24 24\"\n",
              "     width=\"24px\">\n",
              "    <g>\n",
              "        <path d=\"M19 3H5c-1.1 0-2 .9-2 2v14c0 1.1.9 2 2 2h14c1.1 0 2-.9 2-2V5c0-1.1-.9-2-2-2zM9 17H7v-7h2v7zm4 0h-2V7h2v10zm4 0h-2v-4h2v4z\"/>\n",
              "    </g>\n",
              "</svg>\n",
              "      </button>\n",
              "\n",
              "<style>\n",
              "  .colab-df-quickchart {\n",
              "      --bg-color: #E8F0FE;\n",
              "      --fill-color: #1967D2;\n",
              "      --hover-bg-color: #E2EBFA;\n",
              "      --hover-fill-color: #174EA6;\n",
              "      --disabled-fill-color: #AAA;\n",
              "      --disabled-bg-color: #DDD;\n",
              "  }\n",
              "\n",
              "  [theme=dark] .colab-df-quickchart {\n",
              "      --bg-color: #3B4455;\n",
              "      --fill-color: #D2E3FC;\n",
              "      --hover-bg-color: #434B5C;\n",
              "      --hover-fill-color: #FFFFFF;\n",
              "      --disabled-bg-color: #3B4455;\n",
              "      --disabled-fill-color: #666;\n",
              "  }\n",
              "\n",
              "  .colab-df-quickchart {\n",
              "    background-color: var(--bg-color);\n",
              "    border: none;\n",
              "    border-radius: 50%;\n",
              "    cursor: pointer;\n",
              "    display: none;\n",
              "    fill: var(--fill-color);\n",
              "    height: 32px;\n",
              "    padding: 0;\n",
              "    width: 32px;\n",
              "  }\n",
              "\n",
              "  .colab-df-quickchart:hover {\n",
              "    background-color: var(--hover-bg-color);\n",
              "    box-shadow: 0 1px 2px rgba(60, 64, 67, 0.3), 0 1px 3px 1px rgba(60, 64, 67, 0.15);\n",
              "    fill: var(--button-hover-fill-color);\n",
              "  }\n",
              "\n",
              "  .colab-df-quickchart-complete:disabled,\n",
              "  .colab-df-quickchart-complete:disabled:hover {\n",
              "    background-color: var(--disabled-bg-color);\n",
              "    fill: var(--disabled-fill-color);\n",
              "    box-shadow: none;\n",
              "  }\n",
              "\n",
              "  .colab-df-spinner {\n",
              "    border: 2px solid var(--fill-color);\n",
              "    border-color: transparent;\n",
              "    border-bottom-color: var(--fill-color);\n",
              "    animation:\n",
              "      spin 1s steps(1) infinite;\n",
              "  }\n",
              "\n",
              "  @keyframes spin {\n",
              "    0% {\n",
              "      border-color: transparent;\n",
              "      border-bottom-color: var(--fill-color);\n",
              "      border-left-color: var(--fill-color);\n",
              "    }\n",
              "    20% {\n",
              "      border-color: transparent;\n",
              "      border-left-color: var(--fill-color);\n",
              "      border-top-color: var(--fill-color);\n",
              "    }\n",
              "    30% {\n",
              "      border-color: transparent;\n",
              "      border-left-color: var(--fill-color);\n",
              "      border-top-color: var(--fill-color);\n",
              "      border-right-color: var(--fill-color);\n",
              "    }\n",
              "    40% {\n",
              "      border-color: transparent;\n",
              "      border-right-color: var(--fill-color);\n",
              "      border-top-color: var(--fill-color);\n",
              "    }\n",
              "    60% {\n",
              "      border-color: transparent;\n",
              "      border-right-color: var(--fill-color);\n",
              "    }\n",
              "    80% {\n",
              "      border-color: transparent;\n",
              "      border-right-color: var(--fill-color);\n",
              "      border-bottom-color: var(--fill-color);\n",
              "    }\n",
              "    90% {\n",
              "      border-color: transparent;\n",
              "      border-bottom-color: var(--fill-color);\n",
              "    }\n",
              "  }\n",
              "</style>\n",
              "\n",
              "      <script>\n",
              "        async function quickchart(key) {\n",
              "          const quickchartButtonEl =\n",
              "            document.querySelector('#' + key + ' button');\n",
              "          quickchartButtonEl.disabled = true;  // To prevent multiple clicks.\n",
              "          quickchartButtonEl.classList.add('colab-df-spinner');\n",
              "          try {\n",
              "            const charts = await google.colab.kernel.invokeFunction(\n",
              "                'suggestCharts', [key], {});\n",
              "          } catch (error) {\n",
              "            console.error('Error during call to suggestCharts:', error);\n",
              "          }\n",
              "          quickchartButtonEl.classList.remove('colab-df-spinner');\n",
              "          quickchartButtonEl.classList.add('colab-df-quickchart-complete');\n",
              "        }\n",
              "        (() => {\n",
              "          let quickchartButtonEl =\n",
              "            document.querySelector('#df-488ed1b9-8c3d-4f1f-baec-c9346f99f073 button');\n",
              "          quickchartButtonEl.style.display =\n",
              "            google.colab.kernel.accessAllowed ? 'block' : 'none';\n",
              "        })();\n",
              "      </script>\n",
              "    </div>\n",
              "\n",
              "    </div>\n",
              "  </div>\n"
            ],
            "application/vnd.google.colaboratory.intrinsic+json": {
              "type": "dataframe",
              "summary": "{\n  \"name\": \"recommend_plants_by_filter(user_filters, reset=False)\",\n  \"rows\": 3,\n  \"fields\": [\n    {\n      \"column\": \"Plant Name\",\n      \"properties\": {\n        \"dtype\": \"string\",\n        \"num_unique_values\": 3,\n        \"samples\": [\n          \"Basil\",\n          \"Pansy\",\n          \"Lobelia\"\n        ],\n        \"semantic_type\": \"\",\n        \"description\": \"\"\n      }\n    },\n    {\n      \"column\": \"Growth\",\n      \"properties\": {\n        \"dtype\": \"string\",\n        \"num_unique_values\": 2,\n        \"samples\": [\n          \"moderate\",\n          \"fast\"\n        ],\n        \"semantic_type\": \"\",\n        \"description\": \"\"\n      }\n    },\n    {\n      \"column\": \"Soil\",\n      \"properties\": {\n        \"dtype\": \"category\",\n        \"num_unique_values\": 1,\n        \"samples\": [\n          \"well-drained\"\n        ],\n        \"semantic_type\": \"\",\n        \"description\": \"\"\n      }\n    },\n    {\n      \"column\": \"Sunlight\",\n      \"properties\": {\n        \"dtype\": \"string\",\n        \"num_unique_values\": 3,\n        \"samples\": [\n          \"full sunlight\"\n        ],\n        \"semantic_type\": \"\",\n        \"description\": \"\"\n      }\n    },\n    {\n      \"column\": \"Watering\",\n      \"properties\": {\n        \"dtype\": \"string\",\n        \"num_unique_values\": 2,\n        \"samples\": [\n          \"Water weekly\"\n        ],\n        \"semantic_type\": \"\",\n        \"description\": \"\"\n      }\n    },\n    {\n      \"column\": \"Fertilization Type\",\n      \"properties\": {\n        \"dtype\": \"string\",\n        \"num_unique_values\": 2,\n        \"samples\": [\n          \"Low-nitrogen\"\n        ],\n        \"semantic_type\": \"\",\n        \"description\": \"\"\n      }\n    }\n  ]\n}"
            }
          },
          "metadata": {},
          "execution_count": 8
        }
      ]
    },
    {
      "cell_type": "markdown",
      "source": [
        "## **9️⃣ Simpan Model & Encoder ke File .h5**"
      ],
      "metadata": {
        "id": "UbEay8L9mOvC"
      }
    },
    {
      "cell_type": "code",
      "source": [
        "# model.save(\"RekomendasibyCustom_model.h5\")\n",
        "\n",
        "# # Simpan TF-IDF dan LabelEncoder\n",
        "# import pickle\n",
        "\n",
        "# with open(\"tfidf_vectorizer.pkl\", \"wb\") as f:\n",
        "#     pickle.dump(tfidf, f)\n",
        "\n",
        "# with open(\"label_encoder.pkl\", \"wb\") as f:\n",
        "#     pickle.dump(le, f)"
      ],
      "metadata": {
        "id": "0JeFP_b2n-jo"
      },
      "execution_count": null,
      "outputs": []
    }
  ]
}